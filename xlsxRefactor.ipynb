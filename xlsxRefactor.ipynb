{
 "cells": [
  {
   "cell_type": "code",
   "execution_count": 2,
   "metadata": {},
   "outputs": [],
   "source": [
    "import pandas as pd\n",
    "import os"
   ]
  },
  {
   "cell_type": "code",
   "execution_count": 4,
   "metadata": {},
   "outputs": [],
   "source": [
    "destination_filename=os.path.join(os.curdir,\"Data_First_Round\",\"Candidates_data.xlsx\")\n",
    "# read the data\n",
    "df=pd.read_excel(destination_filename)\n",
    "# convert to utf-8\n",
    "df=df.applymap(lambda x: x.decode('utf-8') if isinstance(x, bytes) else x)\n",
    "# get the columns names\n",
    "columns_names=df.columns\n",
    "# get the index of empty column names\n",
    "empty_columns_index=df.columns[df.isnull().any()].tolist()\n",
    "\n",
    "\n",
    "\n",
    "\n",
    "i=1"
   ]
  },
  {
   "cell_type": "code",
   "execution_count": 9,
   "metadata": {},
   "outputs": [],
   "source": [
    "# all the columns names that start with 'Unnamed'\n",
    "unnamed_columns_names=[]\n",
    "for column_name in columns_names:\n",
    "    if column_name.startswith('Unnamed'):\n",
    "        unnamed_columns_names.append(column_name)\n"
   ]
  },
  {
   "cell_type": "code",
   "execution_count": 34,
   "metadata": {},
   "outputs": [],
   "source": [
    "columns_names_to_repeat=columns_names[21:28]\n",
    "columns_names_to_stay=columns_names[0:21]\n",
    "new_columns_names=[]\n",
    "i=1\n",
    "for column_name in unnamed_columns_names:\n",
    "    new_columns_names.append(str(columns_names_to_repeat[i])+'_'+str(i))\n",
    "    i+=1\n",
    "    if i%7==0:\n",
    "        i=1\n"
   ]
  },
  {
   "cell_type": "code",
   "execution_count": 32,
   "metadata": {},
   "outputs": [
    {
     "data": {
      "text/plain": [
       "['N°Panneau', 'Sexe', 'Nom', 'Prénom', 'Nuance', 'Voix', '% Voix/Ins']"
      ]
     },
     "execution_count": 32,
     "metadata": {},
     "output_type": "execute_result"
    }
   ],
   "source": [
    "col_repeat=[]\n",
    "for column_name in columns_names_to_repeat:\n",
    "    col_repeat.append(column_name)\n",
    "col_repeat\n"
   ]
  },
  {
   "cell_type": "code",
   "execution_count": 54,
   "metadata": {},
   "outputs": [
    {
     "data": {
      "text/plain": [
       "175"
      ]
     },
     "execution_count": 54,
     "metadata": {},
     "output_type": "execute_result"
    }
   ],
   "source": [
    "\n",
    "new_columns_names=[]\n",
    "j=0\n",
    "\n",
    "# repeat an array 7 times\n",
    "for i in range(0,25):\n",
    "    for column_name in columns_names_to_repeat:\n",
    "        new_columns_names.append(str(column_name)+'_'+str(i))\n",
    "        j+=1\n",
    "    j=0\n",
    "# browse an array 7 times to get the new columns names\n",
    "\n",
    "\n",
    "len(new_columns_names)\n"
   ]
  },
  {
   "cell_type": "code",
   "execution_count": 55,
   "metadata": {},
   "outputs": [
    {
     "data": {
      "text/plain": [
       "['Code du département',\n",
       " 'Libellé du département',\n",
       " 'Code de la circonscription',\n",
       " 'Libellé de la circonscription',\n",
       " 'Code de la commune',\n",
       " 'Libellé de la commune',\n",
       " 'Etat saisie',\n",
       " 'Inscrits',\n",
       " 'Abstentions',\n",
       " '% Abs/Ins',\n",
       " 'Votants',\n",
       " '% Vot/Ins',\n",
       " 'Blancs',\n",
       " '% Blancs/Ins',\n",
       " '% Blancs/Vot',\n",
       " 'Nuls',\n",
       " '% Nuls/Ins',\n",
       " '% Nuls/Vot',\n",
       " 'Exprimés',\n",
       " '% Exp/Ins',\n",
       " '% Exp/Vot',\n",
       " 'N°Panneau_0',\n",
       " 'Sexe_0',\n",
       " 'Nom_0',\n",
       " 'Prénom_0',\n",
       " 'Nuance_0',\n",
       " 'Voix_0',\n",
       " '% Voix/Ins_0',\n",
       " 'N°Panneau_1',\n",
       " 'Sexe_1',\n",
       " 'Nom_1',\n",
       " 'Prénom_1',\n",
       " 'Nuance_1',\n",
       " 'Voix_1',\n",
       " '% Voix/Ins_1',\n",
       " 'N°Panneau_2',\n",
       " 'Sexe_2',\n",
       " 'Nom_2',\n",
       " 'Prénom_2',\n",
       " 'Nuance_2',\n",
       " 'Voix_2',\n",
       " '% Voix/Ins_2',\n",
       " 'N°Panneau_3',\n",
       " 'Sexe_3',\n",
       " 'Nom_3',\n",
       " 'Prénom_3',\n",
       " 'Nuance_3',\n",
       " 'Voix_3',\n",
       " '% Voix/Ins_3',\n",
       " 'N°Panneau_4',\n",
       " 'Sexe_4',\n",
       " 'Nom_4',\n",
       " 'Prénom_4',\n",
       " 'Nuance_4',\n",
       " 'Voix_4',\n",
       " '% Voix/Ins_4',\n",
       " 'N°Panneau_5',\n",
       " 'Sexe_5',\n",
       " 'Nom_5',\n",
       " 'Prénom_5',\n",
       " 'Nuance_5',\n",
       " 'Voix_5',\n",
       " '% Voix/Ins_5',\n",
       " 'N°Panneau_6',\n",
       " 'Sexe_6',\n",
       " 'Nom_6',\n",
       " 'Prénom_6',\n",
       " 'Nuance_6',\n",
       " 'Voix_6',\n",
       " '% Voix/Ins_6',\n",
       " 'N°Panneau_7',\n",
       " 'Sexe_7',\n",
       " 'Nom_7',\n",
       " 'Prénom_7',\n",
       " 'Nuance_7',\n",
       " 'Voix_7',\n",
       " '% Voix/Ins_7',\n",
       " 'N°Panneau_8',\n",
       " 'Sexe_8',\n",
       " 'Nom_8',\n",
       " 'Prénom_8',\n",
       " 'Nuance_8',\n",
       " 'Voix_8',\n",
       " '% Voix/Ins_8',\n",
       " 'N°Panneau_9',\n",
       " 'Sexe_9',\n",
       " 'Nom_9',\n",
       " 'Prénom_9',\n",
       " 'Nuance_9',\n",
       " 'Voix_9',\n",
       " '% Voix/Ins_9',\n",
       " 'N°Panneau_10',\n",
       " 'Sexe_10',\n",
       " 'Nom_10',\n",
       " 'Prénom_10',\n",
       " 'Nuance_10',\n",
       " 'Voix_10',\n",
       " '% Voix/Ins_10',\n",
       " 'N°Panneau_11',\n",
       " 'Sexe_11',\n",
       " 'Nom_11',\n",
       " 'Prénom_11',\n",
       " 'Nuance_11',\n",
       " 'Voix_11',\n",
       " '% Voix/Ins_11',\n",
       " 'N°Panneau_12',\n",
       " 'Sexe_12',\n",
       " 'Nom_12',\n",
       " 'Prénom_12',\n",
       " 'Nuance_12',\n",
       " 'Voix_12',\n",
       " '% Voix/Ins_12',\n",
       " 'N°Panneau_13',\n",
       " 'Sexe_13',\n",
       " 'Nom_13',\n",
       " 'Prénom_13',\n",
       " 'Nuance_13',\n",
       " 'Voix_13',\n",
       " '% Voix/Ins_13',\n",
       " 'N°Panneau_14',\n",
       " 'Sexe_14',\n",
       " 'Nom_14',\n",
       " 'Prénom_14',\n",
       " 'Nuance_14',\n",
       " 'Voix_14',\n",
       " '% Voix/Ins_14',\n",
       " 'N°Panneau_15',\n",
       " 'Sexe_15',\n",
       " 'Nom_15',\n",
       " 'Prénom_15',\n",
       " 'Nuance_15',\n",
       " 'Voix_15',\n",
       " '% Voix/Ins_15',\n",
       " 'N°Panneau_16',\n",
       " 'Sexe_16',\n",
       " 'Nom_16',\n",
       " 'Prénom_16',\n",
       " 'Nuance_16',\n",
       " 'Voix_16',\n",
       " '% Voix/Ins_16',\n",
       " 'N°Panneau_17',\n",
       " 'Sexe_17',\n",
       " 'Nom_17',\n",
       " 'Prénom_17',\n",
       " 'Nuance_17',\n",
       " 'Voix_17',\n",
       " '% Voix/Ins_17',\n",
       " 'N°Panneau_18',\n",
       " 'Sexe_18',\n",
       " 'Nom_18',\n",
       " 'Prénom_18',\n",
       " 'Nuance_18',\n",
       " 'Voix_18',\n",
       " '% Voix/Ins_18',\n",
       " 'N°Panneau_19',\n",
       " 'Sexe_19',\n",
       " 'Nom_19',\n",
       " 'Prénom_19',\n",
       " 'Nuance_19',\n",
       " 'Voix_19',\n",
       " '% Voix/Ins_19',\n",
       " 'N°Panneau_20',\n",
       " 'Sexe_20',\n",
       " 'Nom_20',\n",
       " 'Prénom_20',\n",
       " 'Nuance_20',\n",
       " 'Voix_20',\n",
       " '% Voix/Ins_20',\n",
       " 'N°Panneau_21',\n",
       " 'Sexe_21',\n",
       " 'Nom_21',\n",
       " 'Prénom_21',\n",
       " 'Nuance_21',\n",
       " 'Voix_21',\n",
       " '% Voix/Ins_21',\n",
       " 'N°Panneau_22',\n",
       " 'Sexe_22',\n",
       " 'Nom_22',\n",
       " 'Prénom_22',\n",
       " 'Nuance_22',\n",
       " 'Voix_22',\n",
       " '% Voix/Ins_22',\n",
       " 'N°Panneau_23',\n",
       " 'Sexe_23',\n",
       " 'Nom_23',\n",
       " 'Prénom_23',\n",
       " 'Nuance_23',\n",
       " 'Voix_23',\n",
       " '% Voix/Ins_23',\n",
       " 'N°Panneau_24',\n",
       " 'Sexe_24',\n",
       " 'Nom_24',\n",
       " 'Prénom_24',\n",
       " 'Nuance_24',\n",
       " 'Voix_24',\n",
       " '% Voix/Ins_24']"
      ]
     },
     "execution_count": 55,
     "metadata": {},
     "output_type": "execute_result"
    }
   ],
   "source": [
    "col=[]\n",
    "for column_name in columns_names_to_stay:\n",
    "    col.append(column_name)\n",
    "for column_name in new_columns_names:\n",
    "    col.append(column_name)\n",
    "col    "
   ]
  },
  {
   "cell_type": "code",
   "execution_count": 59,
   "metadata": {},
   "outputs": [
    {
     "data": {
      "text/plain": [
       "196"
      ]
     },
     "execution_count": 59,
     "metadata": {},
     "output_type": "execute_result"
    }
   ],
   "source": [
    "# rename the columns\n",
    "len(new_columns_names)+len(columns_names_to_stay)"
   ]
  },
  {
   "cell_type": "code",
   "execution_count": 53,
   "metadata": {},
   "outputs": [
    {
     "data": {
      "text/plain": [
       "Index(['Code du département', 'Libellé du département',\n",
       "       'Code de la circonscription', 'Libellé de la circonscription',\n",
       "       'Code de la commune', 'Libellé de la commune', 'Etat saisie',\n",
       "       'Inscrits', 'Abstentions', '% Abs/Ins',\n",
       "       ...\n",
       "       'Voix_23', '% Voix/Ins_23', 'Unnamed: 189', 'Unnamed: 190',\n",
       "       'Unnamed: 191', 'Unnamed: 192', 'Unnamed: 193', 'Unnamed: 194',\n",
       "       'Unnamed: 195', 'Unnamed: 196'],\n",
       "      dtype='object', length=197)"
      ]
     },
     "execution_count": 53,
     "metadata": {},
     "output_type": "execute_result"
    }
   ],
   "source": [
    "df.columns"
   ]
  }
 ],
 "metadata": {
  "kernelspec": {
   "display_name": "Python 3.9.2 ('DataViz')",
   "language": "python",
   "name": "python3"
  },
  "language_info": {
   "codemirror_mode": {
    "name": "ipython",
    "version": 3
   },
   "file_extension": ".py",
   "mimetype": "text/x-python",
   "name": "python",
   "nbconvert_exporter": "python",
   "pygments_lexer": "ipython3",
   "version": "3.9.2"
  },
  "orig_nbformat": 4,
  "vscode": {
   "interpreter": {
    "hash": "9d3b02cfbe0f4d874ce34387a01b328f3658b63742bf2a9395213800be2a1b28"
   }
  }
 },
 "nbformat": 4,
 "nbformat_minor": 2
}
